{
  "nbformat": 4,
  "nbformat_minor": 0,
  "metadata": {
    "colab": {
      "name": "CCTV정리.ipynb",
      "private_outputs": true,
      "provenance": []
    },
    "kernelspec": {
      "name": "python3",
      "display_name": "Python 3"
    },
    "accelerator": "GPU"
  },
  "cells": [
    {
      "cell_type": "markdown",
      "metadata": {
        "id": "e-BTJICyPzEG"
      },
      "source": [
        "# Table of Contents\r\n",
        "1. dataset 준비\r\n",
        "2. image augmentation\r\n",
        "3. train, val.txt 파일 만들기\r\n",
        "4. data.yaml 파일 만들기\r\n",
        "5. 사용할 모델의 yaml파일 변경하기\r\n",
        "6. YOLO v5 train\r\n",
        "7. YOLO v5 detection"
      ]
    },
    {
      "cell_type": "code",
      "metadata": {
        "id": "ZgM5rZEBduuG"
      },
      "source": [
        "# 구글코랩 사용 시 설치 필요 (세션 시작때마다 해주어야 함)\r\n",
        "!pip install -U PyYAML"
      ],
      "execution_count": null,
      "outputs": []
    },
    {
      "cell_type": "code",
      "metadata": {
        "id": "tmD1ugmbevIX"
      },
      "source": [
        "# 필요모듈 import\r\n",
        "import numpy as np\r\n",
        "import pandas as pd\r\n",
        "from glob import glob\r\n",
        "import json\r\n",
        "import os\r\n",
        "import yaml\r\n",
        "import random\r\n",
        "import numpy as np\r\n",
        "import shutil\r\n",
        "import cv2\r\n",
        "import imgaug as ia\r\n",
        "import imgaug.augmenters as iaa\r\n",
        "from imgaug.augmentables.bbs import BoundingBox, BoundingBoxesOnImage\r\n",
        "from cv2 import imshow\r\n",
        "from IPython.display import display\r\n",
        "from google.colab.patches import cv2_imshow\r\n",
        "import cv2\r\n",
        "import json"
      ],
      "execution_count": null,
      "outputs": []
    },
    {
      "cell_type": "markdown",
      "metadata": {
        "id": "_IztMcot0O7w"
      },
      "source": [
        "## 1. dataset 준비"
      ]
    },
    {
      "cell_type": "code",
      "metadata": {
        "id": "yJ6y_69peyQn"
      },
      "source": [
        "# 이미지 데이터 셋\r\n",
        "img_ls = glob('/content/drive/MyDrive/Dataset/images/train/*.jpg')\r\n",
        "img_ls"
      ],
      "execution_count": null,
      "outputs": []
    },
    {
      "cell_type": "code",
      "metadata": {
        "id": "J7mTSKXu06e2"
      },
      "source": [
        "# label 데이터셋\r\n",
        "json_ls = glob('/content/drive/MyDrive/Dataset/labels/train/*.json')\r\n",
        "json_ls"
      ],
      "execution_count": null,
      "outputs": []
    },
    {
      "cell_type": "code",
      "metadata": {
        "id": "35Te11iF00P1"
      },
      "source": [
        "# json으로 저장되어있던 labels file을 txt파일로 변경\r\n",
        "# json에서는 0-1사이의 값으로 지정되지 않아서 imgaug에서 요구하는 input형식으로 좌표를 변경함\r\n",
        "for filename in json_ls:\r\n",
        "    with open(filename, 'r') as file:\r\n",
        "        json_data = json.load(file)\r\n",
        "\r\n",
        "    with open(filename.split('.')[-2] +'.txt', 'w') as f2:\r\n",
        "        x_min = json_data['mark'][0]['coordinates'][0][0]\r\n",
        "        y_min = json_data['mark'][0]['coordinates'][0][1]\r\n",
        "        x_max = json_data['mark'][0]['coordinates'][2][0]\r\n",
        "        y_max = json_data['mark'][0]['coordinates'][2][1]\r\n",
        "        # imgaug.augmentables.bbs에서 요구하는 좌표의 형태\r\n",
        "        b = [0, x_min, y_max, x_max, y_min]\r\n",
        "        f2.write(\" \".join(map(str, b)))\r\n",
        "        # 좌표를 만든 json파일 삭제하지 않음 (augmentation 후 변경되지 않은 좌표를 추가적으로 변경할 때 사용)\r\n",
        "        # os.remove(filename)"
      ],
      "execution_count": null,
      "outputs": []
    },
    {
      "cell_type": "code",
      "metadata": {
        "id": "5DUoY3R71suG"
      },
      "source": [
        "json_val_ls = glob('/content/drive/MyDrive/Dataset/labels/val/*.json')\r\n",
        "json_val_ls"
      ],
      "execution_count": null,
      "outputs": []
    },
    {
      "cell_type": "code",
      "metadata": {
        "id": "jwzctVgH1reD"
      },
      "source": [
        "# json으로 저장되어있던 labels file을 txt파일로 변경\r\n",
        "# validation 파일은 별도로 augmentation을 진행하지 않기때문에 YOLO에서 요구하는 좌표로 바로 만들면 됨\r\n",
        "for filename in json_val_ls:\r\n",
        "    with open(filename, 'r') as file:\r\n",
        "        json_data = json.load(file)\r\n",
        "\r\n",
        "    with open(filename.split('.')[-2] +'.txt', 'w') as f:\r\n",
        "        x = round(((json_data['mark'][0]['coordinates'][0][0]/1920) + (json_data['mark'][0]['coordinates'][1][0]/1920))/2, 3)\r\n",
        "        y = round(((json_data['mark'][0]['coordinates'][0][1]/1080) + (json_data['mark'][0]['coordinates'][2][1]/1080))/2, 3)\r\n",
        "        w = round((np.abs(json_data['mark'][0]['coordinates'][1][0]-json_data['mark'][0]['coordinates'][0][0]))/1920, 3)\r\n",
        "        h = round((np.abs(json_data['mark'][0]['coordinates'][2][1]-json_data['mark'][0]['coordinates'][0][1]))/1080, 3)\r\n",
        "        a = [0, x, y, w, h]\r\n",
        "        f.write(\" \".join(map(str, a)))\r\n",
        "        # 좌표를 만든 json파일 삭제\r\n",
        "        os.remove(filename)"
      ],
      "execution_count": null,
      "outputs": []
    },
    {
      "cell_type": "markdown",
      "metadata": {
        "id": "DgwGRTYbf627"
      },
      "source": [
        "## 2. image augmentation"
      ]
    },
    {
      "cell_type": "code",
      "metadata": {
        "id": "D2L6QB5bgncN"
      },
      "source": [
        "# augmentation 필터 설정하기\r\n",
        "seq1 = iaa.Affine(scale={'x':(0.5, 1.5), 'y':(0.5, 1.5)}) # 늘리기\r\n",
        "seq2 = iaa.Affine(translate_percent={'x': (-0.2, 0.2), 'y':(-0.2, 0.2)}) # 옆으로 밀기\r\n",
        "seq3 = iaa.Affine(translate_px={\"x\": (-20, 20), \"y\": (-20, 20)}) # 위아래로 늘리기\r\n",
        "seq4 = iaa.Affine(rotate=(-45, 45)) # 사진 45도 돌리기\r\n",
        "seq5 = iaa.Affine(shear=(-16, 16)) # 대각선으로 늘리기\r\n",
        "# 밝기 변화 + 좌우반전\r\n",
        "seq7= iaa.Sequential([\r\n",
        "                    iaa.Multiply((1.2, 1.5)), \r\n",
        "                    iaa.Fliplr(1.0) \r\n",
        "                    ])\r\n",
        "\r\n",
        "seq8 = iaa.Grayscale(alpha=1.0) # 회색\r\n",
        "\r\n",
        "# dropout, 픽셀 조정\r\n",
        "seq9 = iaa.Sequential([iaa.Dropout((0.05, 0.1), per_channel=0.5),\r\n",
        "                    iaa.Multiply((0.3, 1.5)),\r\n",
        "                    iaa.ChannelShuffle(p=1.0)])\r\n",
        "\r\n",
        "seq10 = iaa.GaussianBlur(sigma=1.5) # 흐리게\r\n",
        "\r\n",
        "seq11 = iaa.Rot90(1) # 90도 회전"
      ],
      "execution_count": null,
      "outputs": []
    },
    {
      "cell_type": "code",
      "metadata": {
        "id": "4amIucS_2_On"
      },
      "source": [
        "img_ls"
      ],
      "execution_count": null,
      "outputs": []
    },
    {
      "cell_type": "code",
      "metadata": {
        "id": "MJUj1Ue6f6ge"
      },
      "source": [
        "ia_bounding_boxes = []\r\n",
        "for j, img in list(enumerate(img_ls)): \r\n",
        "    label_path = '/content/drive/MyDrive/Dataset/labels/train/'\r\n",
        "    img_path = '/content/drive/MyDrive/Dataset/images/train/'\r\n",
        "    image = cv2.imread(img)\r\n",
        "    with open(label_path + img.split('/')[-1].split('.')[0]+'.txt', 'r') as f:\r\n",
        "        data = f.readline()\r\n",
        "        ls = data.split(' ')\r\n",
        "        ia_bounding_boxes.append(BoundingBox(x1=float(ls[1]), y1=float(ls[2]), x2=float(ls[3]), y2=float(ls[4])))\r\n",
        "        bbs = ia.BoundingBoxesOnImage(ia_bounding_boxes, shape=image.shape)\r\n",
        "    \r\n",
        "        f.close()\r\n",
        "\r\n",
        "    ls = [seq1, seq2, seq3, seq4, seq5, seq7, seq8, seq9, seq10, seq11]\r\n",
        "\r\n",
        "    for i, seq in list(enumerate(ls)):\r\n",
        "        seq_det = seq.to_deterministic()\r\n",
        "        image_aug = seq_det.augment_images([image])[0]\r\n",
        "        bbs_aug = seq_det.augment_bounding_boxes([bbs])[0]\r\n",
        "\r\n",
        "        # image_aug: 이미지 저장\r\n",
        "        cv2.imwrite(img_path+img.split('/')[-1].split('.')[0] + '_'+ str(i) + '.jpg', image_aug)\r\n",
        "\r\n",
        "        # textfile 복사해서 textfile 저장\r\n",
        "        shutil.copy(label_path+img.split('/')[-1].split('.')[0] + '.txt', label_path+img.split('/')[-1].split('.')[0] + '_'+ str(i) + '.txt')\r\n",
        "        name = label_path+img.split('/')[-1].split('.')[0] + '_' + str(i) + '.txt'\r\n",
        "\r\n",
        "        # textfile 열어서 사이즈로 나눠서 좌표 구해주기\r\n",
        "        with open(name, 'w') as f2:\r\n",
        "            x = bbs_aug.bounding_boxes[j].center_x/1920\r\n",
        "            y = bbs_aug.bounding_boxes[j].center_y/1080\r\n",
        "            w = bbs_aug.bounding_boxes[j].width/1920\r\n",
        "            h = bbs_aug.bounding_boxes[j].height/1080\r\n",
        "            cl = 0\r\n",
        "            b = [cl, x, y, w, h]\r\n",
        "            f2.write(\" \".join(map(str, b)))"
      ],
      "execution_count": null,
      "outputs": []
    },
    {
      "cell_type": "code",
      "metadata": {
        "id": "EPNUQ-oK4PDW"
      },
      "source": [
        "# augmentation 하지 않은 원본 좌표 yolo에 맞게 변경하기\r\n",
        "json_origin = glob('/content/drive/MyDrive/Dataset/labels/train/*.json')\r\n",
        "json_origin"
      ],
      "execution_count": null,
      "outputs": []
    },
    {
      "cell_type": "code",
      "metadata": {
        "id": "unNUT0th4q6Z"
      },
      "source": [
        "# json으로 저장되어있던 labels file을 txt파일로 변경\r\n",
        "for filename in json_origin:\r\n",
        "    with open(filename, 'r') as file:\r\n",
        "        json_data = json.load(file)\r\n",
        "\r\n",
        "    with open(filename.split('.')[-2] +'.txt', 'w') as f:\r\n",
        "        x = round(((json_data['mark'][0]['coordinates'][0][0]/1920) + (json_data['mark'][0]['coordinates'][1][0]/1920))/2, 3)\r\n",
        "        y = round(((json_data['mark'][0]['coordinates'][0][1]/1080) + (json_data['mark'][0]['coordinates'][2][1]/1080))/2, 3)\r\n",
        "        w = round((np.abs(json_data['mark'][0]['coordinates'][1][0]-json_data['mark'][0]['coordinates'][0][0]))/1920, 3)\r\n",
        "        h = round((np.abs(json_data['mark'][0]['coordinates'][2][1]-json_data['mark'][0]['coordinates'][0][1]))/1080, 3)\r\n",
        "        a = [0, x, y, w, h]\r\n",
        "        f.write(\" \".join(map(str, a)))\r\n",
        "        # 좌표를 만든 json파일 삭제\r\n",
        "        # os.remove(filename)"
      ],
      "execution_count": null,
      "outputs": []
    },
    {
      "cell_type": "markdown",
      "metadata": {
        "id": "gYLXPG5NfwNv"
      },
      "source": [
        "## 3. train, val.txt 파일 만들기"
      ]
    },
    {
      "cell_type": "code",
      "metadata": {
        "id": "ikgxFG05iRJX"
      },
      "source": [
        "train_ls = glob('/content/drive/MyDrive/Dataset/images/train/*.jpg')\r\n",
        "train_ls"
      ],
      "execution_count": null,
      "outputs": []
    },
    {
      "cell_type": "code",
      "metadata": {
        "id": "LCxzrbwRiQ7W"
      },
      "source": [
        "val_ls = glob('/content/drive/MyDrive/Dataset/images/val/*.jpg')\r\n",
        "val_ls"
      ],
      "execution_count": null,
      "outputs": []
    },
    {
      "cell_type": "code",
      "metadata": {
        "id": "LviVt9MT4I-A"
      },
      "source": [
        "# txt파일 만들기\r\n",
        "with open('/content/drive/MyDrive/Dataset/train.txt', 'w') as f:\r\n",
        "    f.write('\\n'.join(train_ls) + '\\n')\r\n",
        "\r\n",
        "with open('/content/drive/MyDrive/Dataset/val.txt', 'w') as f:\r\n",
        "    f.write('\\n'.join(val_ls) + '\\n')"
      ],
      "execution_count": null,
      "outputs": []
    },
    {
      "cell_type": "markdown",
      "metadata": {
        "id": "zYt72YlFf1Fr"
      },
      "source": [
        "## 4. data.yaml 파일 만들기"
      ]
    },
    {
      "cell_type": "code",
      "metadata": {
        "id": "SbWrWzyfe73-"
      },
      "source": [
        "# yaml파일 열기\r\n",
        "with open ('/content/drive/MyDrive/Dataset/data.yaml','r') as f:\r\n",
        "    data = yaml.load(f)"
      ],
      "execution_count": null,
      "outputs": []
    },
    {
      "cell_type": "code",
      "metadata": {
        "id": "1fz2W9gb5R2_"
      },
      "source": [
        "print(data)"
      ],
      "execution_count": null,
      "outputs": []
    },
    {
      "cell_type": "code",
      "metadata": {
        "id": "-VuKfIUz5XJo"
      },
      "source": [
        "# 클래스 이름은 person으로 변경하고 nc 클래스의 수는 1로 변경\r\n",
        "data['names'] = 'person'\r\n",
        "data['nc'] = 1\r\n",
        "data['train'] = '/content/drive/MyDrive/Dataset/train.txt'\r\n",
        "data['val'] = '/content/drive/MyDrive/Dataset/val.txt'"
      ],
      "execution_count": null,
      "outputs": []
    },
    {
      "cell_type": "code",
      "metadata": {
        "id": "ky921pIv5dja"
      },
      "source": [
        "with open('/content/drive/MyDrive/Data/data.yaml', 'w') as f:\r\n",
        "    yaml.dump(data, f)"
      ],
      "execution_count": null,
      "outputs": []
    },
    {
      "cell_type": "code",
      "metadata": {
        "id": "EbFVeAkf5eQT"
      },
      "source": [
        "print(data)"
      ],
      "execution_count": null,
      "outputs": []
    },
    {
      "cell_type": "markdown",
      "metadata": {
        "id": "k07s5BgL6Q8c"
      },
      "source": [
        "## 5. 사용할 모델의 yaml파일 변경하기\r\n",
        "- './yolov5/models/yolov5s.yaml' yaml파일 열기 (구글코랩에서는 바로 열고 수정 가능/ 로컬에서 사용 시, 위의 방법처럼 with open으로 열어서 수정필요)\r\n",
        "- parameters에 nc 1로 수정 (실제 detection 하고자 하는 class의 수로 변경)"
      ]
    },
    {
      "cell_type": "markdown",
      "metadata": {
        "id": "vCRZlzO46Bni"
      },
      "source": [
        "## 6. YOLO v5 train"
      ]
    },
    {
      "cell_type": "markdown",
      "metadata": {
        "id": "ffpxyX0PPfrC"
      },
      "source": [
        "- yolo v5가 클론되어 있는 곳으로 경로 이동"
      ]
    },
    {
      "cell_type": "code",
      "metadata": {
        "id": "CNSiHGHm6Au6"
      },
      "source": [
        "cd /content/drive/MyDrive/yolov5"
      ],
      "execution_count": null,
      "outputs": []
    },
    {
      "cell_type": "code",
      "metadata": {
        "id": "uxL70tUf5l7x"
      },
      "source": [
        "# train.py 실행\r\n",
        "# 설정값: --data, --epochs, --cfg, -- weights, --batch-size, --name\r\n",
        "# data는 data.yaml파일 경로, cfg는 돌리고자 하는 모델의 yaml파일 경로(현재는 v5s버전으로 설정), weights는 없어도 되고, 사전학습된 weight가 있다면 사용가능 .pt파일 경로\r\n",
        "!python train.py --data '/content/drive/MyDrive/Dataset/data.yaml' --epochs 1000 --cfg '/content/drive/MyDrive/yolov5/models/yolov5s.yaml' --weights '/content/drive/MyDrive/yolov5/runs/train/yolov5s_results_1218/weights/best.pt' --batch-size 64 --name yolo_v5_customdata"
      ],
      "execution_count": null,
      "outputs": []
    },
    {
      "cell_type": "code",
      "metadata": {
        "id": "Ma5bozPtXCKn"
      },
      "source": [
        "# train.py 실행\r\n",
        "# 설정값: --data, --epochs, --cfg, -- weights, --batch-size, --name\r\n",
        "# data는 data.yaml파일 경로, cfg는 돌리고자 하는 모델의 yaml파일 경로(현재는 v5s버전으로 설정), weights는 없어도 되고, 사전학습된 weight가 있다면 사용가능 .pt파일 경로\r\n",
        "!python train.py --data '/content/drive/MyDrive/Dataset/data.yaml' --epochs 1000 --cfg '/content/drive/MyDrive/yolov5/models/yolov5s.yaml' --weights '' --batch-size 64 --name yolo_v5_git"
      ],
      "execution_count": null,
      "outputs": []
    },
    {
      "cell_type": "markdown",
      "metadata": {
        "id": "X0AtMjznOgbJ"
      },
      "source": [
        "## 7. YOLO v5 detection"
      ]
    },
    {
      "cell_type": "code",
      "metadata": {
        "id": "nkOX0KV9M7f6"
      },
      "source": [
        "# 3번 영상에 detection\r\n",
        "!python detect.py --weights \"/content/drive/MyDrive/yolov5/runs/train/yolo_v5_customdata6/weights/best.pt\" --conf 0.3 --source \"/content/drive/MyDrive/Dataset/03.mp4\""
      ],
      "execution_count": null,
      "outputs": []
    },
    {
      "cell_type": "code",
      "metadata": {
        "id": "eQQUwVhgPXbV"
      },
      "source": [
        "cd /content/drive/MyDrive/yolov5"
      ],
      "execution_count": null,
      "outputs": []
    },
    {
      "cell_type": "code",
      "metadata": {
        "id": "D-EL4EbvQrlw"
      },
      "source": [
        "# 2번 영상에 detection\r\n",
        "!python detect.py --weights \"/content/drive/MyDrive/yolov5/runs/train/yolo_v5_git/weights/best.pt\" --conf 0.3 --source \"/content/drive/MyDrive/Dataset/02.mp4\""
      ],
      "execution_count": null,
      "outputs": []
    }
  ]
}